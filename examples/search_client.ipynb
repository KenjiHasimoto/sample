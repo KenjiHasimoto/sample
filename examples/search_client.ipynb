{
 "cells": [
  {
   "cell_type": "markdown",
   "metadata": {},
   "source": [
    "# Search Client Examples\n",
    "\n",
    "This notebook demonstrates how to use the search providers (Tavily and You.com) through the unified interface."
   ]
  },
  {
   "cell_type": "code",
   "execution_count": 1,
   "metadata": {},
   "outputs": [
    {
     "data": {
      "text/plain": [
       "True"
      ]
     },
     "execution_count": 1,
     "metadata": {},
     "output_type": "execute_result"
    }
   ],
   "source": [
    "import sys\n",
    "from dotenv import load_dotenv, find_dotenv\n",
    "\n",
    "sys.path.append('../../aisuite')\n",
    "load_dotenv(find_dotenv())"
   ]
  },
  {
   "cell_type": "code",
   "execution_count": 2,
   "metadata": {},
   "outputs": [],
   "source": [
    "# Add API key input functionality\n",
    "def get_api_key(provider_name):\n",
    "    import os\n",
    "    key_name = f\"{provider_name.upper()}_API_KEY\"\n",
    "    api_key = os.getenv(key_name)\n",
    "    \n",
    "    if not api_key:\n",
    "        from IPython.display import clear_output\n",
    "        api_key = input(f\"Please enter your {provider_name} API key: \")\n",
    "        os.environ[key_name] = api_key\n",
    "        # clear_output()  # Clean up the notebook output\n",
    "    return api_key"
   ]
  },
  {
   "cell_type": "code",
   "execution_count": 3,
   "metadata": {},
   "outputs": [],
   "source": [
    "# Get API keys for each provider\n",
    "tavily_key = get_api_key('tavily')\n",
    "you_key = get_api_key('you_com')\n",
    "serp_key = get_api_key('serp')"
   ]
  },
  {
   "cell_type": "code",
   "execution_count": 4,
   "metadata": {},
   "outputs": [],
   "source": [
    "from aisuite import SearchClient\n",
    "query = \"Lionel Messi\"\n",
    "sc = SearchClient()"
   ]
  },
  {
   "cell_type": "code",
   "execution_count": 5,
   "metadata": {},
   "outputs": [
    {
     "name": "stdout",
     "output_type": "stream",
     "text": [
      "Tavily Search Results:\n",
      "\n",
      "Title: Career of Lionel Messi - Wikipedia\n",
      "URL: https://en.wikipedia.org/wiki/Career_of_Lionel_Messi\n",
      "Content: Lionel Messi is an Argentine professional footballer who plays as a forward for and captains both Ma...\n",
      "\n",
      "Title: Lionel Messi - Player profile 2024 - Transfermarkt\n",
      "URL: https://www.transfermarkt.com/lionel-messi/profil/spieler/28003\n",
      "Content: Lionel Messi - Player profile 2024 | Transfermarkt Most valuable players in the world Player Agents ...\n",
      "\n",
      "Title: Lionel Messi | Records, Height, Ballon d'Or, Inter Miami, & Facts ...\n",
      "URL: https://www.britannica.com/biography/Lionel-Messi\n",
      "Content: In early 2009 Messi capped off a spectacular 2008–09 season by helping FC Barcelona capture the club...\n"
     ]
    }
   ],
   "source": [
    "# Test basic web search with Tavily\n",
    "tavily_results = sc.search(provider='tavily', query=query)\n",
    "print(\"Tavily Search Results:\")\n",
    "for result in tavily_results[:3]:  # Show first 3 results\n",
    "    print(f\"\\nTitle: {result.title}\")\n",
    "    print(f\"URL: {result.url}\")\n",
    "    print(f\"Content: {result.content[:100]}...\")"
   ]
  },
  {
   "cell_type": "code",
   "execution_count": 10,
   "metadata": {},
   "outputs": [
    {
     "name": "stdout",
     "output_type": "stream",
     "text": [
      "You.com Search Results:\n",
      "\n",
      "Title: Lionel Messi - Wikipedia\n",
      "URL: https://en.wikipedia.org/wiki/Lionel_Messi\n",
      "Content: Lionel Andrés \"Leo\" Messi (Spanish pronunciation: [ljoˈnel anˈdɾes ˈmesi] ⓘ; born 24 June 1987) is a...\n",
      "\n",
      "Title: Lionel Messi - Inter Miami CF Forward - ESPN\n",
      "URL: https://www.espn.com/soccer/player/_/id/45843/lionel-messi\n",
      "Content: View the profile of Inter Miami CF Forward Lionel Messi on ESPN. Get the latest news, live stats and...\n",
      "\n",
      "Title: lionel messi on X\n",
      "URL: https://twitter.com/search?q=lionel+messi\n",
      "Content: Explore Twitter's latest discussions on lionel messi...\n"
     ]
    }
   ],
   "source": [
    "# Test web search with You.com\n",
    "you_results = sc.search(provider='you', query=query)\n",
    "print(\"You.com Search Results:\")\n",
    "for result in you_results[:3]:  # Show first 3 results\n",
    "    print(f\"\\nTitle: {result.title}\")\n",
    "    print(f\"URL: {result.url}\")\n",
    "    print(f\"Content: {result.content[:100]}...\")"
   ]
  },
  {
   "cell_type": "code",
   "execution_count": 5,
   "metadata": {},
   "outputs": [
    {
     "name": "stdout",
     "output_type": "stream",
     "text": [
      "You.com Search Results:\n",
      "\n",
      "Title: Barcelona sensation Lamine Yamal in awe of Lionel Messi - 'No player can do that' | Barca Universal\n",
      "URL: https://barcauniversal.com/barcelona-sensation-lamine-yamal-in-awe-of-lionel-messi-no-player-can-do-that/\n",
      "Content: Following a tremendous 2024 that saw him win the prestigious Kopa Trophy and the Golden Boy award, L...\n",
      "\n",
      "Title: Palantir: The 'Messi of AI,' but Is It Still Overpriced? - Wall Street Pit\n",
      "URL: https://wallstreetpit.com/121830-palantir-the-messi-of-ai-but-is-it-still-overpriced/\n",
      "Content: The tech sector has been abuzz with discussions about Palantir Technologies (PLTR), particularly aro...\n",
      "\n",
      "Title: Lionel Messi snubbed in last award of 2024, loses to Real Madrid star Jude Bellingham - Bolavip US\n",
      "URL: https://bolavip.com/en/soccer/lionel-messi-snubbed-in-last-award-of-2024-loses-to-real-madrid-star-jude-bellingham\n",
      "Content: As 2024 drew to a close, the winners of one of soccer’s most prestigious awards were announced, and ...\n"
     ]
    }
   ],
   "source": [
    "# Test news search with You.com\n",
    "you_results = sc.search(provider='you:get_news', query=query)\n",
    "print(\"You.com Search Results:\")\n",
    "for result in you_results[:3]:  # Show first 3 results\n",
    "    print(f\"\\nTitle: {result.title}\")\n",
    "    print(f\"URL: {result.url}\")\n",
    "    print(f\"Content: {result.content[:100]}...\")"
   ]
  },
  {
   "cell_type": "code",
   "execution_count": null,
   "metadata": {},
   "outputs": [],
   "source": [
    "for result in you_results[:3]:  # Show first 3 results\n",
    "    print(f\"\\nTitle: {result.title}\")\n",
    "    print(f\"URL: {result.url}\")\n",
    "    print(f\"Content: {result.content[:100]}...\")\n",
    "    print(f\"Source: {result.source}\")"
   ]
  },
  {
   "cell_type": "code",
   "execution_count": 6,
   "metadata": {},
   "outputs": [
    {
     "name": "stdout",
     "output_type": "stream",
     "text": [
      "You.com Search Results:\n",
      "\n",
      "Title: Lionel Messi - Wikipedia\n",
      "URL: https://en.wikipedia.org/wiki/Lionel_Messi\n",
      "Content: Lionel Andrés \"Leo\" Messi (Spanish pronunciation: [ljoˈnel anˈdɾes ˈmesi] ⓘ; born 24 June 1987) is a...\n"
     ]
    }
   ],
   "source": [
    "# Test web search with You.com. Add extra parameter - num_web_results\n",
    "you_results = sc.search(provider='you', query=query, num_web_results=1)\n",
    "print(\"You.com Search Results:\")\n",
    "for result in you_results[:3]:  # Show first 3 results\n",
    "    print(f\"\\nTitle: {result.title}\")\n",
    "    print(f\"URL: {result.url}\")\n",
    "    print(f\"Content: {result.content[:100]}...\")"
   ]
  },
  {
   "cell_type": "code",
   "execution_count": 7,
   "metadata": {},
   "outputs": [
    {
     "name": "stdout",
     "output_type": "stream",
     "text": [
      "You.com Search Results:\n",
      "\n",
      "Title: Lionel Messi - Wikipedia\n",
      "URL: https://en.wikipedia.org/wiki/Lionel_Messi\n",
      "Content: Lionel Andrés \"Leo\" Messi (Spanish pronunciation: [ljoˈnel anˈdɾes ˈmesi] ⓘ; born 24 June 1987) is a...\n",
      "\n",
      "Title: “Some of the things he does would have Ronaldo blush” - When Michael Dawson claimed ex-Spurs star is like Cristiano Ronaldo & Lionel Messi\n",
      "URL: https://www.sportskeeda.com/football/some-things-ronaldo-blush-when-michael-dawson-claimed-ex-spurs-star-like-cristiano-ronaldo-lionel-messi\n",
      "Content: Former Tottenham Hotspur defender Michael Dawson once likened Gareth Bale to Cristiano Ronaldo and L...\n"
     ]
    }
   ],
   "source": [
    "# Test web search with You.com. Add extra parameter - num_web_results and country\n",
    "you_results = sc.search(provider='you', query=query, num_web_results=2, country='FR')\n",
    "print(\"You.com Search Results:\")\n",
    "for result in you_results[:3]:  # Show first 3 results\n",
    "    print(f\"\\nTitle: {result.title}\")\n",
    "    print(f\"URL: {result.url}\")\n",
    "    print(f\"Content: {result.content[:100]}...\")"
   ]
  },
  {
   "cell_type": "code",
   "execution_count": 3,
   "metadata": {},
   "outputs": [
    {
     "name": "stdout",
     "output_type": "stream",
     "text": [
      "Calling SerpSearchProvider.search with query: Lionel Messi, specific_function: , kwargs: {}\n",
      "SerpAPI Search Results:\n",
      "\n",
      "Title: Lionel Messi\n",
      "URL: https://en.wikipedia.org/wiki/Lionel_Messi\n",
      "Content: An Argentine international, Messi is the national team's all-time leading goalscorer and most-capped...\n",
      "Source: serpapi:google\n",
      "\n",
      "Title: Leo Messi (@leomessi) • Instagram photos and videos\n",
      "URL: https://www.instagram.com/leomessi/?hl=en\n",
      "Content: 505M Followers, 330 Following, 1302 Posts - Leo Messi (@leomessi) on Instagram: \"Bienvenidos a la cu...\n",
      "Source: serpapi:google\n",
      "\n",
      "Title: Lionel Messi\n",
      "URL: https://www.intermiamicf.com/players/lionel-messi/\n",
      "Content: #10 • Forward • Inter Miami CF. Senior Name Lionel Messi. Height 5' 7\". Weight 148 lbs. Date of Birt...\n",
      "Source: serpapi:google\n"
     ]
    }
   ],
   "source": [
    "serp_results = sc.search(provider='serp', query=query)\n",
    "print(\"SerpAPI Search Results:\")\n",
    "for result in serp_results[:3]:  # Show first 3 results\n",
    "    print(f\"\\nTitle: {result.title}\")\n",
    "    print(f\"URL: {result.url}\")\n",
    "    print(f\"Content: {result.content[:100]}...\")\n",
    "    print(f\"Source: {result.source}\")"
   ]
  }
 ],
 "metadata": {
  "kernelspec": {
   "display_name": "Python 3 (ipykernel)",
   "language": "python",
   "name": "python3"
  },
  "language_info": {
   "codemirror_mode": {
    "name": "ipython",
    "version": 3
   },
   "file_extension": ".py",
   "mimetype": "text/x-python",
   "name": "python",
   "nbconvert_exporter": "python",
   "pygments_lexer": "ipython3",
   "version": "3.12.7"
  }
 },
 "nbformat": 4,
 "nbformat_minor": 4
}
